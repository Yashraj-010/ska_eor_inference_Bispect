{
 "cells": [
  {
   "cell_type": "markdown",
   "metadata": {},
   "source": [
    "# EoR 21-cm Bispectrum Fisher analysis\n",
    "\n",
    "Authors:\n",
    " \n",
    "Leon Noble (phd2201121004@iiti.ac.in), IIT Indore\n",
    "\n",
    "Yashrajsinh Mahida (phd2301121014@iiti.ac.in), IIT Indore"
   ]
  },
  {
   "cell_type": "code",
   "execution_count": 2,
   "metadata": {},
   "outputs": [],
   "source": [
    "import numpy as np\n",
    "import read_bs\n",
    "import matplotlib.pyplot as plt\n",
    "import corner"
   ]
  },
  {
   "cell_type": "markdown",
   "metadata": {},
   "source": [
    "### Reading bispectrum data"
   ]
  },
  {
   "cell_type": "code",
   "execution_count": 3,
   "metadata": {},
   "outputs": [],
   "source": [
    "\n",
    "# paths to the data\n",
    "path_to_bs_data = \"/home/leon/Documents/bs_fisher_inference_chapter/data/bs_data_out\"\n",
    "paths_params = [ \"Lightcone_HII_EFF_FACTOR_400_Samples_Plus\", \"Lightcone_HII_EFF_FACTOR_400_Samples_Minus\",\"Lightcone_ION_Tvir_MIN_400_Samples_Plus\",\n",
    "                \"Lightcone_ION_Tvir_MIN_400_Samples_Minus\", \"Lightcone_R_BUBBLE_MAX_400_Samples_Plus\", \"Lightcone_R_BUBBLE_MAX_400_Samples_Minus\"]\n",
    "paths = [path_to_bs_data + \"/\" + path for path in paths_params]\n",
    "bs_data_cov_path_ska_AA_star_1000 = \"/home/leon/Documents/bs_fisher_inference_chapter/data/obs/ska_AA_star_1000/bs_data_out\"\n",
    "bs_data_cov_path_ska_AA_star_100 = \"/home/leon/Documents/bs_fisher_inference_chapter/data/obs/ska_AA_star_100/bs_data_out\"\n"
   ]
  },
  {
   "cell_type": "code",
   "execution_count": 32,
   "metadata": {},
   "outputs": [],
   "source": [
    "# arrays to hold the data\n",
    "num_k1_values = 40\n",
    "num_samples = 399\n",
    "n_params = 3\n",
    "data_bs_unique = np.zeros((6,num_samples,num_k1_values,10,10))\n",
    "data_bs_fidu_ska_AA_star_1000 = np.zeros((num_samples,num_k1_values,10,10)) \n",
    "data_bs_fidu_ska_AA_star_100 = np.zeros((num_samples,num_k1_values,10,10))\n",
    "data_bs_squeezed = np.zeros((6,num_samples,num_k1_values))\n",
    "data_bs_fidu_ska_AA_star_1000_squeezed = np.zeros((num_samples,num_k1_values))\n",
    "data_bs_fidu_ska_AA_star_100_squeezed = np.zeros((num_samples,num_k1_values))\n",
    "delta_params = [10, 10,pow(10,4.740362689494244)-pow(10,4.653212513775344) ] "
   ]
  },
  {
   "cell_type": "code",
   "execution_count": 5,
   "metadata": {},
   "outputs": [],
   "source": [
    "# reading  bispectrum data for all unique triangles and the squeezed limit for all realizations\n",
    "\n",
    "for i in range(len(paths)):\n",
    "    for j in range(num_samples):\n",
    "       bs_data = read_bs.Auto_BS_Data(\"{}/realization_{}\".format(paths[i], int(j)))\n",
    "       k1_values, mu_bin, t_bin,data_bs_unique[i,j,:,:,:] , ntri, bispec = bs_data.read_bispec_data()\n",
    "       data_bs_squeezed[i,j,:] = bs_data.get_squeezed_limit()\n",
    "for j in range(num_samples):\n",
    "    bs_data = read_bs.Auto_BS_Data(\"{}/realization_{}\".format(bs_data_cov_path_ska_AA_star_1000, int(j)))\n",
    "    k1_values, mu_bin, t_bin,data_bs_fidu_ska_AA_star_1000[j,:,:,:] , ntri, bispec = bs_data.read_bispec_data()\n",
    "    data_bs_fidu_ska_AA_star_1000_squeezed[j,:] = bs_data.get_squeezed_limit()\n",
    "    \n",
    "for j in range(num_samples):\n",
    "    bs_data = read_bs.Auto_BS_Data(\"{}/realization_{}\".format(bs_data_cov_path_ska_AA_star_100, int(j)))\n",
    "    k1_values, mu_bin, t_bin,data_bs_fidu_ska_AA_star_100[j,:,:,:] , ntri, bispec = bs_data.read_bispec_data()\n",
    "    data_bs_fidu_ska_AA_star_100_squeezed[j,:] = bs_data.get_squeezed_limit()\n"
   ]
  },
  {
   "cell_type": "code",
   "execution_count": 6,
   "metadata": {},
   "outputs": [],
   "source": [
    "# applying condition mu * t >= 0.50\n",
    "index_list = []\n",
    "for i in range(len(mu_bin)):\n",
    "    for j in range(len(t_bin)):\n",
    "        mu_t = mu_bin[i] * t_bin[j]\n",
    "        if mu_t >= 0.50:\n",
    "            index_list.append((i, j))\n",
    "index_list = np.array(index_list)\n",
    "\n",
    "# rearranging the bispectrum data\n",
    "bs_data_unique_rearrange = np.zeros((6,399, np.size(k1_values), np.shape(index_list)[0]))\n",
    "data_bs_fidu_ska_AA_star_1000_rearrange = np.zeros((num_samples, np.size(k1_values), np.shape(index_list)[0]))\n",
    "data_bs_fidu_ska_AA_star_100_rearrange = np.zeros((num_samples, np.size(k1_values), np.shape(index_list)[0]))\n",
    "for i in range(np.shape(index_list)[0]):\n",
    "    bs_data_unique_rearrange[:,:,:, i] = data_bs_unique[:, :,:, index_list[i, 0], index_list[i, 1]]\n",
    "    data_bs_fidu_ska_AA_star_1000_rearrange[:, :, i] = data_bs_fidu_ska_AA_star_1000[:, :,index_list[i, 0], index_list[i, 1]]\n",
    "    data_bs_fidu_ska_AA_star_100_rearrange[:, :, i] = data_bs_fidu_ska_AA_star_100[:, :, index_list[i, 0], index_list[i, 1]]"
   ]
  },
  {
   "cell_type": "markdown",
   "metadata": {},
   "source": [
    "### Finding the derivatives"
   ]
  },
  {
   "cell_type": "code",
   "execution_count": 7,
   "metadata": {},
   "outputs": [],
   "source": [
    "# finding derivatives for the squeezed limit\n",
    "der_sq_HII_EFF_sq = data_bs_squeezed[0, :, :] - data_bs_squeezed[1, :, :] / delta_params[0]\n",
    "der_sq_Tvir_MIN_sq = data_bs_squeezed[2, :, :] - data_bs_squeezed[3, :, :] / delta_params[2]\n",
    "der_sq_R_BUBBLE_MAX_sq = data_bs_squeezed[4, :, :] - data_bs_squeezed[5, :, :] / delta_params[1]\n",
    "\n"
   ]
  },
  {
   "cell_type": "code",
   "execution_count": 8,
   "metadata": {},
   "outputs": [],
   "source": [
    "# finding derivatives for the bispectrum data for all unique triangles\n",
    "der_bs_HII_EFF = bs_data_unique_rearrange[0, :, :, :] - bs_data_unique_rearrange[1, :, :, :] / delta_params[0]\n",
    "der_bs_Tvir_MIN = bs_data_unique_rearrange[2, :, :, :] - bs_data_unique_rearrange[3, :, :, :] / delta_params[2]\n",
    "der_bs_R_BUBBLE_MAX = bs_data_unique_rearrange[4, :, :, :] - bs_data_unique_rearrange[5, :, :, :] / delta_params[1]\n"
   ]
  },
  {
   "cell_type": "markdown",
   "metadata": {},
   "source": [
    "### Estimating the Covariance"
   ]
  },
  {
   "cell_type": "code",
   "execution_count": 9,
   "metadata": {},
   "outputs": [],
   "source": [
    "sigma_sq_SKA_AA_star_1000 = np.std(data_bs_fidu_ska_AA_star_1000_squeezed, axis=0) # sigma for squeezed limit (SKA AA star 1000)\n",
    "sigma_sq_SKA_AA_star_100 = np.std(data_bs_fidu_ska_AA_star_100_squeezed, axis=0) # sigma for squeezed limit (SKA AA star 100)\n",
    "#sigma_unique_SKA_AA_star_1000 = np.std(data_bs_fidu_ska_AA_star_1000, axis=(0))    # sigma for unique bispectrum (SKA AA star 1000)\n",
    "#sigma_unique_SKA_AA_star_100 = np.std(data_bs_fidu_ska_AA_star_100, axis=(0))    # sigma for unique bispectrum (SKA AA star 100)"
   ]
  },
  {
   "cell_type": "code",
   "execution_count": 10,
   "metadata": {},
   "outputs": [],
   "source": [
    "# applying mask to avoid unsampled k1 modes\n",
    "mask_sq_SKA_AA_star_1000 = ~np.any(np.isnan(data_bs_fidu_ska_AA_star_1000_squeezed), axis=0)\n",
    "data_bs_fidu_ska_AA_star_1000_squeezed_ = data_bs_fidu_ska_AA_star_1000_squeezed[:, mask_sq_SKA_AA_star_1000]\n",
    "sigma_sq_ = sigma_sq_SKA_AA_star_1000[mask_sq_SKA_AA_star_1000]"
   ]
  },
  {
   "cell_type": "code",
   "execution_count": 11,
   "metadata": {},
   "outputs": [],
   "source": [
    "\n",
    "sigma_unique_SKA_AA_star_1000 = np.zeros((np.shape(index_list)[0], np.size(k1_values)))\n",
    "sigma_unique_SKA_AA_star_100 = np.zeros((np.shape(index_list)[0], np.size(k1_values)))\n",
    "mask_unique_SKA_AA_star_1000 = np.zeros((np.shape(index_list)[0], np.size(k1_values)), dtype=bool) # masks to avoid unsampled k1 modes in the unique bispectrum data\n",
    "mask_unique_SKA_AA_star_100 = np.zeros((np.shape(index_list)[0], np.size(k1_values)), dtype=bool) # masks to avoid unsampled k1 modes in the unique bispectrum data\n",
    "for i in range(np.shape(index_list)[0]):\n",
    "    sigma_unique_SKA_AA_star_1000[i, :] = np.std(data_bs_fidu_ska_AA_star_1000_rearrange[:, :, i], axis=0)\n",
    "    mask_unique_SKA_AA_star_1000[i, :] = ~np.isnan(data_bs_fidu_ska_AA_star_1000_rearrange[:, :, i]).any(axis=0)\n",
    "    sigma_unique_SKA_AA_star_100[i, :] = np.std(data_bs_fidu_ska_AA_star_100_rearrange[:, :, i], axis=0)\n",
    "    mask_unique_SKA_AA_star_100[i, :] = ~np.isnan(data_bs_fidu_ska_AA_star_100_rearrange[:, :, i]).any(axis=0)"
   ]
  },
  {
   "cell_type": "code",
   "execution_count": 12,
   "metadata": {},
   "outputs": [],
   "source": [
    "cov_field = data_bs_fidu_ska_AA_star_1000_squeezed_/sigma_sq_\n",
    "cov_field_unique_SKA_AA_star_1000 = []\n",
    "cov_field_unique_SKA_AA_star_100 = []\n",
    "for j in range(np.shape(index_list)[0]):\n",
    "    # SKA AA star 1000\n",
    "    sliced_data_SKA_AA_Star_1000 = data_bs_fidu_ska_AA_star_1000_rearrange[:, :, j]\n",
    "    maksed_data_SKA_AA_Star_1000 = sliced_data_SKA_AA_Star_1000[:, mask_unique_SKA_AA_star_1000[j]]\n",
    "    cov_field_temp_SKA_AA_Star_1000 = maksed_data_SKA_AA_Star_1000 / sigma_unique_SKA_AA_star_1000[j][mask_unique_SKA_AA_star_1000[j]]\n",
    "    cov_field_unique_SKA_AA_star_1000.append(cov_field_temp_SKA_AA_Star_1000)\n",
    "    # SKA AA star 100\n",
    "    sliced_data_SKA_AA_Star_100 = data_bs_fidu_ska_AA_star_100_rearrange[:, :, j]\n",
    "    maksed_data_SKA_AA_Star_100 = sliced_data_SKA_AA_Star_100[:, mask_unique_SKA_AA_star_100[j]]\n",
    "    cov_field_temp_SKA_AA_Star_100 = maksed_data_SKA_AA_Star_100 / sigma_unique_SKA_AA_star_100[j][mask_unique_SKA_AA_star_100[j]]\n",
    "    cov_field_unique_SKA_AA_star_100.append(cov_field_temp_SKA_AA_Star_100)\n",
    "\n",
    "        \n"
   ]
  },
  {
   "cell_type": "code",
   "execution_count": 14,
   "metadata": {},
   "outputs": [
    {
     "name": "stdout",
     "output_type": "stream",
     "text": [
      "log Condition number of the covariance matrix: 0.55 (should be <= 7).\n",
      "log Condition number of the covariance matrix: 0.54 (should be <= 7).\n",
      "log Condition number of the covariance matrix: 0.54 (should be <= 7).\n",
      "log Condition number of the covariance matrix: 0.39 (should be <= 7).\n",
      "log Condition number of the covariance matrix: 0.42 (should be <= 7).\n",
      "log Condition number of the covariance matrix: 0.41 (should be <= 7).\n",
      "log Condition number of the covariance matrix: 0.38 (should be <= 7).\n",
      "log Condition number of the covariance matrix: 0.44 (should be <= 7).\n",
      "log Condition number of the covariance matrix: 0.47 (should be <= 7).\n",
      "log Condition number of the covariance matrix: 0.38 (should be <= 7).\n",
      "log Condition number of the covariance matrix: 0.38 (should be <= 7).\n",
      "log Condition number of the covariance matrix: 0.39 (should be <= 7).\n",
      "log Condition number of the covariance matrix: 0.43 (should be <= 7).\n",
      "log Condition number of the covariance matrix: 0.44 (should be <= 7).\n",
      "log Condition number of the covariance matrix: 0.41 (should be <= 7).\n",
      "log Condition number of the covariance matrix: 0.42 (should be <= 7).\n",
      "log Condition number of the covariance matrix: 0.47 (should be <= 7).\n",
      "log Condition number of the covariance matrix: 0.43 (should be <= 7).\n",
      "log Condition number of the covariance matrix: 0.42 (should be <= 7).\n",
      "log Condition number of the covariance matrix: 0.46 (should be <= 7).\n",
      "log Condition number of the covariance matrix: 0.45 (should be <= 7).\n",
      "log Condition number of the covariance matrix: 0.46 (should be <= 7).\n",
      "log Condition number of the covariance matrix: 0.45 (should be <= 7).\n",
      "log Condition number of the covariance matrix: 0.39 (should be <= 7).\n",
      "log Condition number of the covariance matrix: 0.45 (should be <= 7).\n",
      "log Condition number of the covariance matrix: 0.45 (should be <= 7).\n",
      "log Condition number of the covariance matrix: 0.49 (should be <= 7).\n",
      "log Condition number of the covariance matrix: 0.43 (should be <= 7).\n",
      "log Condition number of the covariance matrix: 0.38 (should be <= 7).\n",
      "log Condition number of the covariance matrix: 0.42 (should be <= 7).\n",
      "log Condition number of the covariance matrix: 0.44 (should be <= 7).\n",
      "log Condition number of the covariance matrix: 0.40 (should be <= 7).\n",
      "log Condition number of the covariance matrix: 0.42 (should be <= 7).\n",
      "log Condition number of the covariance matrix: 0.45 (should be <= 7).\n",
      "log Condition number of the covariance matrix: 0.48 (should be <= 7).\n",
      "log Condition number of the covariance matrix: 0.40 (should be <= 7).\n",
      "log Condition number of the covariance matrix: 0.44 (should be <= 7).\n",
      "log Condition number of the covariance matrix: 0.48 (should be <= 7).\n",
      "log Condition number of the covariance matrix: 0.50 (should be <= 7).\n",
      "log Condition number of the covariance matrix: 0.44 (should be <= 7).\n",
      "log Condition number of the covariance matrix: 0.39 (should be <= 7).\n",
      "log Condition number of the covariance matrix: 0.46 (should be <= 7).\n",
      "log Condition number of the covariance matrix: 0.45 (should be <= 7).\n",
      "log Condition number of the covariance matrix: 0.43 (should be <= 7).\n",
      "log Condition number of the covariance matrix: 0.43 (should be <= 7).\n",
      "log Condition number of the covariance matrix: 0.47 (should be <= 7).\n",
      "log Condition number of the covariance matrix: 0.40 (should be <= 7).\n",
      "log Condition number of the covariance matrix: 0.45 (should be <= 7).\n",
      "log Condition number of the covariance matrix: 0.44 (should be <= 7).\n",
      "log Condition number of the covariance matrix: 0.45 (should be <= 7).\n",
      "log Condition number of the covariance matrix: 0.44 (should be <= 7).\n",
      "log Condition number of the covariance matrix: 0.50 (should be <= 7).\n",
      "log Condition number of the covariance matrix: 0.45 (should be <= 7).\n",
      "log Condition number of the covariance matrix: 0.40 (should be <= 7).\n",
      "log Condition number of the covariance matrix: 0.42 (should be <= 7).\n",
      "log Condition number of the covariance matrix: 0.39 (should be <= 7).\n",
      "log Condition number of the covariance matrix: 0.44 (should be <= 7).\n",
      "log Condition number of the covariance matrix: 0.41 (should be <= 7).\n",
      "log Condition number of the covariance matrix: 0.42 (should be <= 7).\n",
      "log Condition number of the covariance matrix: 0.40 (should be <= 7).\n",
      "log Condition number of the covariance matrix: 0.41 (should be <= 7).\n",
      "log Condition number of the covariance matrix: 0.42 (should be <= 7).\n",
      "log Condition number of the covariance matrix: 0.41 (should be <= 7).\n",
      "log Condition number of the covariance matrix: 0.44 (should be <= 7).\n",
      "log Condition number of the covariance matrix: 0.43 (should be <= 7).\n",
      "log Condition number of the covariance matrix: 0.49 (should be <= 7).\n",
      "log Condition number of the covariance matrix: 0.44 (should be <= 7).\n",
      "log Condition number of the covariance matrix: 0.49 (should be <= 7).\n",
      "log Condition number of the covariance matrix: 0.52 (should be <= 7).\n",
      "log Condition number of the covariance matrix: 0.37 (should be <= 7).\n",
      "log Condition number of the covariance matrix: 0.40 (should be <= 7).\n",
      "log Condition number of the covariance matrix: 0.44 (should be <= 7).\n",
      "log Condition number of the covariance matrix: 0.45 (should be <= 7).\n",
      "log Condition number of the covariance matrix: 0.45 (should be <= 7).\n",
      "log Condition number of the covariance matrix: 0.45 (should be <= 7).\n",
      "log Condition number of the covariance matrix: 0.44 (should be <= 7).\n",
      "log Condition number of the covariance matrix: 0.47 (should be <= 7).\n",
      "log Condition number of the covariance matrix: 0.44 (should be <= 7).\n",
      "log Condition number of the covariance matrix: 0.48 (should be <= 7).\n",
      "log Condition number of the covariance matrix: 0.41 (should be <= 7).\n",
      "log Condition number of the covariance matrix: 0.47 (should be <= 7).\n",
      "log Condition number of the covariance matrix: 0.43 (should be <= 7).\n",
      "log Condition number of the covariance matrix: 0.43 (should be <= 7).\n",
      "log Condition number of the covariance matrix: 0.47 (should be <= 7).\n",
      "log Condition number of the covariance matrix: 0.45 (should be <= 7).\n",
      "log Condition number of the covariance matrix: 0.50 (should be <= 7).\n",
      "log Condition number of the covariance matrix: 0.49 (should be <= 7).\n",
      "log Condition number of the covariance matrix: 0.40 (should be <= 7).\n",
      "log Condition number of the covariance matrix: 0.38 (should be <= 7).\n",
      "log Condition number of the covariance matrix: 0.50 (should be <= 7).\n",
      "log Condition number of the covariance matrix: 0.47 (should be <= 7).\n",
      "log Condition number of the covariance matrix: 0.45 (should be <= 7).\n",
      "log Condition number of the covariance matrix: 0.41 (should be <= 7).\n",
      "log Condition number of the covariance matrix: 0.42 (should be <= 7).\n",
      "log Condition number of the covariance matrix: 0.43 (should be <= 7).\n",
      "log Condition number of the covariance matrix: 0.44 (should be <= 7).\n",
      "log Condition number of the covariance matrix: 0.44 (should be <= 7).\n",
      "log Condition number of the covariance matrix: 0.44 (should be <= 7).\n",
      "log Condition number of the covariance matrix: 0.46 (should be <= 7).\n",
      "log Condition number of the covariance matrix: 0.45 (should be <= 7).\n",
      "log Condition number of the covariance matrix: 0.44 (should be <= 7).\n",
      "log Condition number of the covariance matrix: 0.43 (should be <= 7).\n",
      "log Condition number of the covariance matrix: 0.46 (should be <= 7).\n",
      "log Condition number of the covariance matrix: 0.48 (should be <= 7).\n",
      "log Condition number of the covariance matrix: 0.48 (should be <= 7).\n",
      "log Condition number of the covariance matrix: 0.42 (should be <= 7).\n",
      "log Condition number of the covariance matrix: 0.41 (should be <= 7).\n",
      "log Condition number of the covariance matrix: 0.39 (should be <= 7).\n",
      "log Condition number of the covariance matrix: 0.41 (should be <= 7).\n",
      "log Condition number of the covariance matrix: 0.46 (should be <= 7).\n",
      "log Condition number of the covariance matrix: 0.45 (should be <= 7).\n",
      "log Condition number of the covariance matrix: 0.44 (should be <= 7).\n",
      "log Condition number of the covariance matrix: 0.49 (should be <= 7).\n",
      "log Condition number of the covariance matrix: 0.49 (should be <= 7).\n",
      "log Condition number of the covariance matrix: 0.45 (should be <= 7).\n",
      "log Condition number of the covariance matrix: 0.55 (should be <= 7).\n",
      "log Condition number of the covariance matrix: 0.52 (should be <= 7).\n",
      "log Condition number of the covariance matrix: 0.58 (should be <= 7).\n",
      "log Condition number of the covariance matrix: 0.60 (should be <= 7).\n",
      "log Condition number of the covariance matrix: 0.51 (should be <= 7).\n",
      "log Condition number of the covariance matrix: 0.59 (should be <= 7).\n",
      "log Condition number of the covariance matrix: 0.50 (should be <= 7).\n",
      "log Condition number of the covariance matrix: 0.63 (should be <= 7).\n",
      "log Condition number of the covariance matrix: 0.55 (should be <= 7).\n",
      "log Condition number of the covariance matrix: 0.49 (should be <= 7).\n"
     ]
    }
   ],
   "source": [
    "covariance = np.cov(cov_field, rowvar=False)\n",
    "print(f'log Condition number of the covariance matrix: {np.log10(np.linalg.cond(covariance)):.2f} (should be <= 7).')\n",
    "covariance_unique_SKA_AA_star_1000 = []\n",
    "covariance_unique_SKA_AA_star_100 = []\n",
    "for j in range(np.shape(index_list)[0]):\n",
    "    cov_temp_SKA_AA_star_1000 = np.cov(cov_field_unique_SKA_AA_star_1000[j], rowvar=False)\n",
    "    cov_temp_SKA_AA_star_100 = np.cov(cov_field_unique_SKA_AA_star_100[j], rowvar=False)\n",
    "    covariance_unique_SKA_AA_star_1000.append(cov_temp_SKA_AA_star_1000)\n",
    "    covariance_unique_SKA_AA_star_100.append(cov_temp_SKA_AA_star_100)\n",
    "\n",
    "    print(f'log Condition number of the covariance matrix: {np.log10(np.linalg.cond(cov_temp_SKA_AA_star_1000)):.2f} (should be <= 7).')\n",
    "    print(f'log Condition number of the covariance matrix: {np.log10(np.linalg.cond(cov_temp_SKA_AA_star_100)):.2f} (should be <= 7).')\n"
   ]
  },
  {
   "cell_type": "code",
   "execution_count": 15,
   "metadata": {},
   "outputs": [],
   "source": [
    "# for squeezed limit\n",
    "deriv_field = np.zeros((n_params,num_samples,36))\n",
    "\n",
    "deriv_field[0,:,:] = der_sq_Tvir_MIN_sq[:,4:]/sigma_sq_\n",
    "deriv_field[1,:,:] = der_sq_R_BUBBLE_MAX_sq[:,4:]/sigma_sq_\n",
    "deriv_field[2,:,:] = der_sq_HII_EFF_sq[:,4:]/sigma_sq_\n",
    "\n",
    "# for unique bispectrum\n",
    "deriv_field_unique_HII_EFF_SKA_AA_star_1000 = []\n",
    "deriv_field_unique_Tvir_MIN_SKA_AA_star_1000 = []\n",
    "deriv_field_unique_R_BUBBLE_MAX_SKA_AA_star_1000 = []\n",
    "deriv_field_unique_HII_EFF_SKA_AA_star_100 = []\n",
    "deriv_field_unique_Tvir_MIN_SKA_AA_star_100 = []\n",
    "deriv_field_unique_R_BUBBLE_MAX_SKA_AA_star_100 = []\n",
    "\n",
    "\n",
    "for j in range(np.shape(index_list)[0]):\n",
    "    sliced__derv_field_HII_EFF = der_bs_HII_EFF[:, :, j]\n",
    "    sliced__derv_field_Tvir_MIN = der_bs_Tvir_MIN[:, :, j]\n",
    "    sliced__derv_field_R_BUBBLE_MAX = der_bs_R_BUBBLE_MAX[:, :, j]\n",
    "\n",
    "    maksed_derv_field_HII_EFF_SKA_AA_star_1000 = sliced__derv_field_HII_EFF[:, mask_unique_SKA_AA_star_1000[j]]\n",
    "    maksed_derv_field_Tvir_MIN_SKA_AA_star_1000 = sliced__derv_field_Tvir_MIN[:, mask_unique_SKA_AA_star_1000[j]]\n",
    "    maksed_derv_field_R_BUBBLE_MAX_SKA_AA_star_1000 = sliced__derv_field_R_BUBBLE_MAX[:, mask_unique_SKA_AA_star_1000[j]]\n",
    "    maksed_derv_field_HII_EFF_SKA_AA_star_100 = sliced__derv_field_HII_EFF[:, mask_unique_SKA_AA_star_100[j]]\n",
    "    maksed_derv_field_Tvir_MIN_SKA_AA_star_100 = sliced__derv_field_Tvir_MIN[:, mask_unique_SKA_AA_star_100[j]]\n",
    "    maksed_derv_field_R_BUBBLE_MAX_SKA_AA_star_100 = sliced__derv_field_R_BUBBLE_MAX[:, mask_unique_SKA_AA_star_100[j]]\n",
    "\n",
    "\n",
    "    deriv_field_unique_HII_EFF_SKA_AA_star_1000.append(maksed_derv_field_HII_EFF_SKA_AA_star_1000 / sigma_unique_SKA_AA_star_1000[j][mask_unique_SKA_AA_star_1000[j]])\n",
    "    deriv_field_unique_Tvir_MIN_SKA_AA_star_1000.append(maksed_derv_field_Tvir_MIN_SKA_AA_star_1000 / sigma_unique_SKA_AA_star_1000[j][mask_unique_SKA_AA_star_1000[j]])\n",
    "    deriv_field_unique_R_BUBBLE_MAX_SKA_AA_star_1000.append(maksed_derv_field_R_BUBBLE_MAX_SKA_AA_star_1000 / sigma_unique_SKA_AA_star_1000[j][mask_unique_SKA_AA_star_1000[j]])\n",
    "    deriv_field_unique_HII_EFF_SKA_AA_star_100.append(maksed_derv_field_HII_EFF_SKA_AA_star_100 / sigma_unique_SKA_AA_star_100[j][mask_unique_SKA_AA_star_100[j]])\n",
    "    deriv_field_unique_Tvir_MIN_SKA_AA_star_100.append(maksed_derv_field_Tvir_MIN_SKA_AA_star_100 / sigma_unique_SKA_AA_star_100[j][mask_unique_SKA_AA_star_100[j]])\n",
    "    deriv_field_unique_R_BUBBLE_MAX_SKA_AA_star_100.append(maksed_derv_field_R_BUBBLE_MAX_SKA_AA_star_100 / sigma_unique_SKA_AA_star_100[j][mask_unique_SKA_AA_star_100[j]])\n"
   ]
  },
  {
   "cell_type": "code",
   "execution_count": 62,
   "metadata": {},
   "outputs": [],
   "source": [
    "samples = np.arange(5, num_samples+5, 5)\n",
    "BS_Fisher_SKA_AA_star_1000 = np.zeros((np.shape(index_list)[0],samples.shape[0], n_params, n_params))\n",
    "BS_Fisher_SKA_AA_star_100 = np.zeros((np.shape(index_list)[0],samples.shape[0], n_params, n_params))\n",
    "BS_Fisher_unique_SKA_AA_star_1000 = np.zeros((samples.shape[0], n_params, n_params))\n",
    "BS_Fisher_unique_SKA_AA_star_100 = np.zeros((samples.shape[0], n_params, n_params))\n",
    "# calculating the Fisher matrix for all unique triangles\n",
    "for i in range(np.shape(index_list)[0]):\n",
    "    # SKA AA star 1000\n",
    "    deriv_field_specific_config_SKA_AA_star_1000 = np.zeros((n_params, num_samples, np.shape(deriv_field_unique_HII_EFF_SKA_AA_star_1000[i])[-1]))\n",
    "    deriv_field_specific_config_SKA_AA_star_1000[0, :, :] = deriv_field_unique_HII_EFF_SKA_AA_star_1000[i]\n",
    "    deriv_field_specific_config_SKA_AA_star_1000[1, :, :] = deriv_field_unique_Tvir_MIN_SKA_AA_star_1000[i]\n",
    "    deriv_field_specific_config_SKA_AA_star_1000[2, :, :] = deriv_field_unique_R_BUBBLE_MAX_SKA_AA_star_1000[i]\n",
    "    covariance_specific_SKA_AA_star_1000 = covariance_unique_SKA_AA_star_1000[i]\n",
    "    # SKA AA star 100\n",
    "    deriv_field_specific_config_SKA_AA_star_100 = np.zeros((n_params, num_samples, np.shape(deriv_field_unique_HII_EFF_SKA_AA_star_100[i])[-1]))\n",
    "    deriv_field_specific_config_SKA_AA_star_100[0, :, :] = deriv_field_unique_HII_EFF_SKA_AA_star_100[i]\n",
    "    deriv_field_specific_config_SKA_AA_star_100[1, :, :] = deriv_field_unique_Tvir_MIN_SKA_AA_star_100[i]\n",
    "    deriv_field_specific_config_SKA_AA_star_100[2, :, :] = deriv_field_unique_R_BUBBLE_MAX_SKA_AA_star_100[i]\n",
    "    covariance_specific_SKA_AA_star_100 = covariance_unique_SKA_AA_star_100[i]\n",
    "    # calculating the Fisher matrix for all samples\n",
    "\n",
    "    for k, sample in enumerate(samples):\n",
    "\n",
    "        deriv_sample_specific_SKA_AA_star_1000 = np.mean(deriv_field_specific_config_SKA_AA_star_1000[:, :sample, :], axis=1)\n",
    "        deriv_sample_specific_SKA_AA_star_100 = np.mean(deriv_field_specific_config_SKA_AA_star_100[:, :sample, :], axis=1)\n",
    "\n",
    "        for j in range(n_params):\n",
    "            for l in range(n_params):\n",
    "\n",
    "                BS_Fisher_SKA_AA_star_1000[i, k, j, l] = np.dot(deriv_sample_specific_SKA_AA_star_1000[j], np.dot(np.linalg.inv(covariance_specific_SKA_AA_star_1000), deriv_sample_specific_SKA_AA_star_1000[l]))\n",
    "                BS_Fisher_SKA_AA_star_100[i, k, j, l] = np.dot(deriv_sample_specific_SKA_AA_star_100[j], np.dot(np.linalg.inv(covariance_specific_SKA_AA_star_100), deriv_sample_specific_SKA_AA_star_100[l]))\n",
    "\n",
    "\n"
   ]
  },
  {
   "cell_type": "code",
   "execution_count": 63,
   "metadata": {},
   "outputs": [],
   "source": [
    "BS_Fisher_unique_SKA_AA_star_1000 =  np.sum(BS_Fisher_SKA_AA_star_1000, axis=0)\n",
    "BS_Fisher_unique_SKA_AA_star_100 =  np.sum(BS_Fisher_SKA_AA_star_100, axis=0)\n",
    "BS_Fisher_INV_SKA_AA_star_1000 = np.zeros((samples.shape[0], n_params, n_params))\n",
    "BS_Fisher_INV_SKA_AA_star_100 = np.zeros((samples.shape[0], n_params, n_params))\n",
    "for i, sample in enumerate(samples):\n",
    "    BS_Fisher_INV_SKA_AA_star_1000[i] = np.linalg.inv(BS_Fisher_unique_SKA_AA_star_1000[i])\n",
    "    BS_Fisher_INV_SKA_AA_star_100[i] = np.linalg.inv(BS_Fisher_unique_SKA_AA_star_100[i])\n"
   ]
  },
  {
   "cell_type": "code",
   "execution_count": 65,
   "metadata": {},
   "outputs": [],
   "source": [
    "\n",
    "\n",
    "fid = [50118.72336272725,15,30]\n",
    "fisher_data = np.random.multivariate_normal(fid, BS_Fisher_INV_SKA_AA_star_1000[-1], size=50000)\n",
    "\n"
   ]
  },
  {
   "cell_type": "code",
   "execution_count": 66,
   "metadata": {},
   "outputs": [],
   "source": [
    "Fisher_Param = ['$T_{Vir}$','$R_{Max}$','$\\zeta$']"
   ]
  },
  {
   "cell_type": "code",
   "execution_count": 67,
   "metadata": {},
   "outputs": [
    {
     "data": {
      "image/png": "[encoded data removed]",
      "text/plain": [
       "<Figure size 760x760 with 9 Axes>"
      ]
     },
     "metadata": {},
     "output_type": "display_data"
    }
   ],
   "source": [
    "\n",
    "\n",
    "_ = corner.corner(\n",
    "    fisher_data,\n",
    "    labels=Fisher_Param,\n",
    "    plot_datapoints=False,  \n",
    "    levels=(0.68,0.95),\n",
    "    truths=fid)"
   ]
  },
  {
   "cell_type": "code",
   "execution_count": null,
   "metadata": {},
   "outputs": [],
   "source": []
  }
 ],
 "metadata": {
  "kernelspec": {
   "display_name": "base",
   "language": "python",
   "name": "python3"
  },
  "language_info": {
   "codemirror_mode": {
    "name": "ipython",
    "version": 3
   },
   "file_extension": ".py",
   "mimetype": "text/x-python",
   "name": "python",
   "nbconvert_exporter": "python",
   "pygments_lexer": "ipython3",
   "version": "3.11.5"
  }
 },
 "nbformat": 4,
 "nbformat_minor": 2
}
